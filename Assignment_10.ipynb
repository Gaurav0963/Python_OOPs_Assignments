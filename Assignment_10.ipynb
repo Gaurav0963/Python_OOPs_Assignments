{
 "cells": [
  {
   "cell_type": "markdown",
   "id": "07fa78e6",
   "metadata": {},
   "source": [
    "# Assignment 10"
   ]
  },
  {
   "cell_type": "markdown",
   "id": "c4159f66",
   "metadata": {},
   "source": [
    "### Q1. What is the difference between `__getattr__` and `__getattribute__` ?\n",
    "\n",
    "ANSWER : Both `__getattr__` and `__getattribute__` are special methods in Python used to handle attribute access in classes, but they differ in how they are invoked and how they handle attribute access.\n",
    "\n",
    "`__getattr__` is called when an attribute is not found in the usual places, such as the instance dictionary or the class hierarchy;  It’s good for implementing a fallback for missing attributes. It takes a single argument, the name of the attribute being accessed, and should return the value of the attribute or raise an `AttributeError` if the attribute is not found."
   ]
  },
  {
   "cell_type": "code",
   "execution_count": 1,
   "id": "634b1767",
   "metadata": {},
   "outputs": [
    {
     "name": "stdout",
     "output_type": "stream",
     "text": [
      "some_name not found\n",
      "None\n"
     ]
    }
   ],
   "source": [
    "class Name:\n",
    "    def __getattr__(self, name):\n",
    "        print(f\"{name} not found\")\n",
    "        return None\n",
    "\n",
    "obj = Name()\n",
    "print(obj.some_name)  # prints \"some_name not found\" and returns None"
   ]
  },
  {
   "cell_type": "markdown",
   "id": "733095db",
   "metadata": {},
   "source": [
    "`__getattribute__`, is called for every attribute access, regardless of whether the attribute exists or not. It takes a single argument, the name of the attribute being accessed, and should return the value of the attribute or raise an `AttributeError` if the attribute is not found.\n",
    "\n",
    "`__getattribute__` is used to customize the behavior of attribute access for all attributes of an object and is invoked before looking at the actual attributes on the object, and so can be tricky to implement correctly. One can end up in infinite recursions very easily.\n",
    "\n",
    "Note : It's important to use `super().__getattribute__(name)` in the implementation of `__getattribute__` to avoid infinite recursion. If you attempt to access an attribute within `__getattribute__` using self.name, it will trigger another call to `__getattribute__`, leading to an infinite loop."
   ]
  },
  {
   "cell_type": "code",
   "execution_count": 2,
   "id": "e2435743",
   "metadata": {
    "scrolled": true
   },
   "outputs": [
    {
     "name": "stdout",
     "output_type": "stream",
     "text": [
      "Accessing the value attribute: x\n",
      "10\n",
      "Accessing the value attribute: y\n",
      "2.3\n"
     ]
    }
   ],
   "source": [
    "class MyClass:\n",
    "    def __init__(self):\n",
    "        self.x = 1\n",
    "        self.y = 2.3\n",
    "\n",
    "    def __getattribute__(self, name):\n",
    "        value = super().__getattribute__(name)\n",
    "        if isinstance(value, int):\n",
    "            print(f'Accessing the value attribute: {name}')\n",
    "            return value * 10\n",
    "        else:\n",
    "            print(f'Accessing the value attribute: {name}')\n",
    "            return value\n",
    "\n",
    "obj = MyClass()\n",
    "print(obj.x)\n",
    "print(obj.y)"
   ]
  },
  {
   "cell_type": "code",
   "execution_count": 3,
   "id": "3d2934c0",
   "metadata": {},
   "outputs": [
    {
     "name": "stdout",
     "output_type": "stream",
     "text": [
      "Accessing attribute : some_name\n",
      "rahul\n"
     ]
    }
   ],
   "source": [
    "# Another Example:\n",
    "\n",
    "class Name:\n",
    "    def __getattr__(self, name):\n",
    "        print(f\"{name} not found\")\n",
    "        return None\n",
    "    \n",
    "    def __getattribute__(self, name):\n",
    "        print(f\"Accessing attribute : {name}\")\n",
    "        return super().__getattribute__(name)\n",
    "#         return object.__getattribute__(self, name)\n",
    "\n",
    "obj = Name()\n",
    "obj.some_name = \"rahul\"\n",
    "print(obj.some_name) "
   ]
  },
  {
   "cell_type": "markdown",
   "id": "a8353655",
   "metadata": {},
   "source": [
    "### Q2. What is the difference between properties and descriptors?\n",
    "\n",
    "ANSWER : \n",
    "#### Property\n",
    "The property protocol allows us to route a specific attribute’s get and set operations to functions or methods we provide, enabling us to insert code to be run automatically on attribute access, intercept attribute deletions, and provide documentation for the attributes if desired.\n",
    "\n",
    "A property manages a single, specific attribute; although it can’t catch all attribute accesses generically, it allows us to control both fetch and assignment accesses and enables us to change an attribute from simple data to a computation freely, without breaking existing code."
   ]
  },
  {
   "cell_type": "code",
   "execution_count": 9,
   "id": "082e21fd",
   "metadata": {},
   "outputs": [],
   "source": [
    "class Employee:\n",
    "    def __init__(self, name):\n",
    "        self._name = name\n",
    "\n",
    "    def getname(self):                 # name = property(name)\n",
    "        return self._name\n",
    "\n",
    "    def setname(self, value):          # name = name.setter(name)\n",
    "        print(f'Setting Name = {value}')\n",
    "        self._name = value\n",
    "\n",
    "    def delname(self):                 # name = name.deleter(name)\n",
    "        print('Deleting Name')\n",
    "        del self._name\n",
    "\n",
    "    name = property( fget=getname, fset=setname, fdel=delname, doc=\"doc related to Employee class\")"
   ]
  },
  {
   "cell_type": "code",
   "execution_count": 10,
   "id": "d42eefa6",
   "metadata": {},
   "outputs": [],
   "source": [
    "obj = Employee('Shiv')"
   ]
  },
  {
   "cell_type": "code",
   "execution_count": 11,
   "id": "c03deca1",
   "metadata": {},
   "outputs": [
    {
     "data": {
      "text/plain": [
       "'Shiv'"
      ]
     },
     "execution_count": 11,
     "metadata": {},
     "output_type": "execute_result"
    }
   ],
   "source": [
    "# Accessing the getname() function using `name` \n",
    "obj.name"
   ]
  },
  {
   "cell_type": "code",
   "execution_count": 12,
   "id": "c0a9716a",
   "metadata": {},
   "outputs": [
    {
     "name": "stdout",
     "output_type": "stream",
     "text": [
      "Setting Name = Krishna\n"
     ]
    }
   ],
   "source": [
    "# Accessing setname() function using `name`\n",
    "obj.name = 'Krishna'"
   ]
  },
  {
   "cell_type": "code",
   "execution_count": 13,
   "id": "5d945e3e",
   "metadata": {},
   "outputs": [
    {
     "data": {
      "text/plain": [
       "'Krishna'"
      ]
     },
     "execution_count": 13,
     "metadata": {},
     "output_type": "execute_result"
    }
   ],
   "source": [
    "obj.name"
   ]
  },
  {
   "cell_type": "code",
   "execution_count": 14,
   "id": "7071cd68",
   "metadata": {},
   "outputs": [],
   "source": [
    "# NOTE: Property can also be set using decoraters\n",
    "class EMPLOYEE:\n",
    "    def __init__(self, name):\n",
    "        self._name = name\n",
    "\n",
    "    @property\n",
    "    def name(self):                          # name = property(name)\n",
    "        return  self._name\n",
    "\n",
    "    @name.setter\n",
    "    def name(self, value):                # name = name.setter(name)\n",
    "        print('setting name...')\n",
    "        self._name = value\n",
    "\n",
    "    @name.deleter\n",
    "    def name(self):                      # name = name.deleter(name)\n",
    "        print('Deleting Name...')\n",
    "        del self._name"
   ]
  },
  {
   "cell_type": "markdown",
   "id": "d31e0622",
   "metadata": {},
   "source": [
    "#### Descriptors\n",
    "Descriptors provide an alternative way to intercept attribute access; if any class has `__get__()`, `__set__()`, and `__delete__()` functions in it, whose purpose is to allow us to customise what it means to get, set or delete an attribute; such a class is qualified to be called as descriptor.\n",
    "\n",
    "Since descriptors are coded as normal classes, they have their own state, may participate in descriptor inheritance hierarchies, can use composition to aggregate objects, and provide a natural structure for coding internal methods and attribute documentation strings.\n"
   ]
  },
  {
   "cell_type": "code",
   "execution_count": 16,
   "id": "5fd36690",
   "metadata": {},
   "outputs": [
    {
     "name": "stdout",
     "output_type": "stream",
     "text": [
      "<class '__main__.Kelvin'>\n",
      "<__main__.Kelvin object at 0x000001EAB19BF220>\n",
      "27\n"
     ]
    }
   ],
   "source": [
    "class Celcius:\n",
    "    def __get__(self, instance, owner):\n",
    "        print(owner)\n",
    "        print(instance)\n",
    "        return instance.kelvin - 273\n",
    "        \n",
    "    def __set__(self, instance, value) -> None:\n",
    "        instance.kelvin = value + 273\n",
    "        \n",
    "    def __delete__(self, instance):\n",
    "        del instance.\n",
    "    \n",
    "class Kelvin:\n",
    "    def __init__(self, kelvin) -> None:\n",
    "        self.kelvin = kelvin\n",
    "        \n",
    "    celcius = Celcius()\n",
    "        \n",
    "temp = Kelvin(300)\n",
    "print(temp.celcius)"
   ]
  },
  {
   "cell_type": "markdown",
   "id": "c321de9c",
   "metadata": {},
   "source": [
    "Parameters passed in the  `__get__` function defined in `Celcius` class:\n",
    "* `self` : it's `Celcius` class instance.\n",
    "* `instance` : it's `Kelvin` class instance.\n",
    "* `owner` : it's `Kelvin` class."
   ]
  },
  {
   "cell_type": "markdown",
   "id": "6238fe17",
   "metadata": {},
   "source": [
    "### Q3. What are the key differences in functionality between `__getattr__` and `__getattribute__`, as well as properties and descriptors?\n",
    "\n",
    "ANSWER : \n",
    "#### Differences in functionality between `__getattr__` and `__getattribute__` : \n",
    "* `__getattr__(self, name)` is called when an attribute is not found in the usual places, such as the instance's namespace, class hierarchy, or built-ins. It receives the name of the attribute as a string and should return the value of the attribute or raise an AttributeError if the attribute is not found. It is a fallback method for attribute lookup.\n",
    "\n",
    "* `__getattribute__(self, name)` is called for every attribute access, regardless of whether the attribute exists in the instance's namespace or not. It receives the name of the attribute as a string and should return the value of the attribute. If it needs to access the same attribute it is currently getting, it should use the super() function to avoid an infinite recursion. It is a general hook for attribute access.\n",
    "\n",
    "#### Differences in functionality between `properties` and `descriptors` :\n",
    "* Properties are a simple way to define read-only or read-write attributes that behave like normal instance variables, but with custom behavior for getting and/or setting the attribute value.\n",
    "\n",
    "* Descriptors are a more powerful and general-purpose mechanism for customizing attribute access. They allow you to define custom behavior not only for getting and setting attribute values, but also for other operations such as deleting or setting attribute values with a specific type or format, and a seperate class is defined for desriptors."
   ]
  }
 ],
 "metadata": {
  "kernelspec": {
   "display_name": "Python 3 (ipykernel)",
   "language": "python",
   "name": "python3"
  },
  "language_info": {
   "codemirror_mode": {
    "name": "ipython",
    "version": 3
   },
   "file_extension": ".py",
   "mimetype": "text/x-python",
   "name": "python",
   "nbconvert_exporter": "python",
   "pygments_lexer": "ipython3",
   "version": "3.9.12"
  }
 },
 "nbformat": 4,
 "nbformat_minor": 5
}
