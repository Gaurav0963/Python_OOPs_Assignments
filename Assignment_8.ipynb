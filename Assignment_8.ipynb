{
 "cells": [
  {
   "cell_type": "markdown",
   "id": "622e0d9c",
   "metadata": {},
   "source": [
    "# ASSIGNMENT 8"
   ]
  },
  {
   "cell_type": "markdown",
   "id": "d72f0bb0",
   "metadata": {},
   "source": [
    "### Q1. What are the two latest user-defined exception constraints in Python 3.X?"
   ]
  },
  {
   "cell_type": "markdown",
   "id": "f0739300",
   "metadata": {},
   "source": [
    "ANSWER: Two common ways latest user-defined exception constraints can be implimented are shown below.\n",
    "1. Inheriting from the built-in `Exception` class. Here, `MyException` is a user-defined exception that inherits from the built-in `Exception` class. "
   ]
  },
  {
   "cell_type": "code",
   "execution_count": 1,
   "id": "41030b1c",
   "metadata": {},
   "outputs": [],
   "source": [
    "class MyException(Exception):\n",
    "    pass"
   ]
  },
  {
   "cell_type": "markdown",
   "id": "e51b1116",
   "metadata": {},
   "source": [
    "2. Defining a new exception class using the `type()` function. This creates a new class called `MyException` that inherits from the `Exception` class. The `type()` function takes three arguments: \n",
    "    * the name of the class, \n",
    "    * a tuple of base classes, and \n",
    "    * a dictionary containing any additional attributes or methods you want to define for the class. \n",
    "In this case, the dictionary is empty, but you could add custom attributes or methods if you needed to."
   ]
  },
  {
   "cell_type": "code",
   "execution_count": 2,
   "id": "23fa483f",
   "metadata": {},
   "outputs": [],
   "source": [
    "MyException = type('MyException', (Exception,), {})"
   ]
  },
  {
   "cell_type": "markdown",
   "id": "c73db029",
   "metadata": {},
   "source": [
    "### Q2. How are class-based exceptions that have been raised matched to handlers?"
   ]
  },
  {
   "cell_type": "markdown",
   "id": "bd514c0b",
   "metadata": {},
   "source": [
    "ANSWER: When a class-based exception is raised, it is matched to handlers by comparing the exception object’s class to the class of the handler. If the handler’s class is a superclass of the object’s class or if they are the same class, then the handler is considered a match.\n",
    "\n",
    "It may be easier to catch categories using class-based categories than to list every member of a category in a single except clause. Perhaps more importantly, exception hierarchies can be extended by adding new subclasses without breaking existing code."
   ]
  },
  {
   "cell_type": "code",
   "execution_count": 7,
   "id": "05c427c3",
   "metadata": {},
   "outputs": [
    {
     "name": "stdout",
     "output_type": "stream",
     "text": [
      "Something went wrong\n"
     ]
    }
   ],
   "source": [
    "class MyError(Exception):\n",
    "    def __init__(self, message):\n",
    "        self.message = message\n",
    "\n",
    "try:\n",
    "    raise MyError(\"Something went wrong\")\n",
    "except MyError as e:\n",
    "    print(e)"
   ]
  },
  {
   "cell_type": "markdown",
   "id": "547b03f6",
   "metadata": {},
   "source": [
    "### Q3. Describe two methods for attaching context information to exception artefacts."
   ]
  },
  {
   "cell_type": "markdown",
   "id": "ef3df2da",
   "metadata": {},
   "source": [
    "ANSWER: Attaching context information to exception artifacts, such as exception instances or traceback objects, can be useful for providing additional information that can help in debugging and troubleshooting. \n",
    "\n",
    "Two methods for attaching context information to exception artifacts in Python are given below.\n",
    "\n",
    "1. We can use `__context__` attribute to record the direct cause of an exception. This attribute retains information about the original exception that caused the current exception to be raised. We can use the `raise ... from` syntax to attach a new exception as the \"cause\" of the original exception. This allows us to chain exceptions together and provide additional context. \n",
    "\n",
    "    In the example below, if an exception is raised in the `try` block, a `RuntimeError` will be raised with the original exception as the cause."
   ]
  },
  {
   "cell_type": "code",
   "execution_count": 8,
   "id": "d8747a12",
   "metadata": {},
   "outputs": [],
   "source": [
    "try:...\n",
    "    # code that might raise an exception\n",
    "except Exception as e:\n",
    "    # additional context to the exception\n",
    "    raise RuntimeError(\"An error occurred\") from e"
   ]
  },
  {
   "cell_type": "markdown",
   "id": "1d5f28b7",
   "metadata": {},
   "source": [
    "2. Use the `__cause__` attribute to provide an explicit way to record the direct cause of an exception. This attribute is useful when an exception handler intentionally re-raises an exception to provide extra information or to translate an exception to another type. \n",
    "\n",
    "    In the example given below, if an exception is raised in the `try` block, a `MyException` will be raised with the original exception as the cause, and a custom attribute called `my_custom_attribute` will be added to the exception instance with the value \"some value\"."
   ]
  },
  {
   "cell_type": "code",
   "execution_count": 9,
   "id": "6c5593df",
   "metadata": {},
   "outputs": [],
   "source": [
    "class MyException(Exception):...\n",
    "\n",
    "try:...\n",
    "    # code that might raise an exception\n",
    "except Exception as e:\n",
    "    # additional context to the exception instance\n",
    "    e.my_custom_attribute = \"some value\"\n",
    "    raise MyException(\"An error occurred\") from e\n"
   ]
  },
  {
   "cell_type": "markdown",
   "id": "a12d06c3",
   "metadata": {},
   "source": [
    "### Q4. Describe two methods for specifying the text of an exception object’s error message."
   ]
  },
  {
   "cell_type": "markdown",
   "id": "24144a9c",
   "metadata": {},
   "source": [
    "ANSWER: Two methods for specifying the text of an exception object's error message.\n",
    "\n",
    "1. Overriding the `__str__()` method: Define a custom exception class that inherits from the built-in `Exception` class and override its `__str__` method to return a custom error message. \n",
    "\n",
    "    In the example given below, a custom exception class called `MyException` is defined. We override the `__str__()` method to return a custom error message. When an instance of MyException is raised, the interpreter will call the `__str__()` method to get the error message.\n",
    "\n",
    "    `Note` : We can also override the `__repr__()` method to provide a custom string representation of the exception object. However, this is typically used for debugging purposes and is not used as the error message when the exception is raised."
   ]
  },
  {
   "cell_type": "code",
   "execution_count": 10,
   "id": "332913b6",
   "metadata": {},
   "outputs": [],
   "source": [
    "class MyException(Exception):\n",
    "    def __str__(self):\n",
    "        return \"Something went wrong\""
   ]
  },
  {
   "cell_type": "markdown",
   "id": "5bcab8b1",
   "metadata": {},
   "source": [
    "2. We can use the `raise` statement to raise an exception with a custom error message.\n",
    "    `raise ValueError(\"Invalid Input.\")` we raise a ValueError exception with the error message “Invalid input”."
   ]
  },
  {
   "cell_type": "markdown",
   "id": "ce258310",
   "metadata": {},
   "source": [
    "### Q5. Why do you no longer use string-based exceptions?"
   ]
  },
  {
   "cell_type": "markdown",
   "id": "61dbe324",
   "metadata": {},
   "source": [
    "1. String based exceptions are matched by simple object identity, therefore there is no direct way to organise exceptions into more flexible categories or groups.\n",
    "\n",
    "2. String based exceptions can’t take benefits of classes, for example class-based exceptions better support exception state information (attached to instances) and allow exceptions to participate in inheritance hierarchies (to obtain common behaviours).\n"
   ]
  }
 ],
 "metadata": {
  "kernelspec": {
   "display_name": "Python 3 (ipykernel)",
   "language": "python",
   "name": "python3"
  },
  "language_info": {
   "codemirror_mode": {
    "name": "ipython",
    "version": 3
   },
   "file_extension": ".py",
   "mimetype": "text/x-python",
   "name": "python",
   "nbconvert_exporter": "python",
   "pygments_lexer": "ipython3",
   "version": "3.9.12"
  }
 },
 "nbformat": 4,
 "nbformat_minor": 5
}
