{
 "cells": [
  {
   "cell_type": "markdown",
   "id": "38a0990b",
   "metadata": {},
   "source": [
    "# Assignment 9"
   ]
  },
  {
   "cell_type": "markdown",
   "id": "7a171fdf",
   "metadata": {},
   "source": [
    "### Q1. In Python 3.X, what are the names and functions of string object types?\n",
    "\n",
    "ANSWER :\n",
    "1. `str` : This type is used to represent `Unicode` strings, which are sequences of Unicode code points. It is the default and most commonly used string type.\n",
    "\n",
    "\n",
    "2. `bytes` : This type is used to represent sequences of bytes. It is commonly used when working with `binary data` or when interfacing with systems or libraries that require byte-level access.\n",
    "\n",
    "\n",
    "3. `bytearray` : This type is similar to bytes, but it is mutable (can be modified) and supports in-place modifications.\n",
    "\n",
    "\n",
    "4. `memoryview` : This type provides a way to access the memory of other objects in a flexible and efficient way, including strings and bytes. It can be used to perform low-level operations on data without making copies, which can be useful for large datasets or performance-critical code."
   ]
  },
  {
   "cell_type": "markdown",
   "id": "30deed24",
   "metadata": {},
   "source": [
    "### Q2. How do the string forms in Python 3.X vary in terms of operations?\n",
    "\n",
    "ANSWER :\n",
    "1. `Encoding and decoding` : Strings of type str are Unicode strings and can represent any character in the Unicode character set. Strings of type bytes, on the other hand, are sequences of bytes and can only represent ASCII characters (values 0-127) or bytes that have been encoded using a particular encoding scheme (e.g., UTF-8, UTF-16, etc.). To convert between `str` and `bytes` types, you need to `encode` or `decode` the string using an appropriate encoding scheme.\n",
    "\n",
    "\n",
    "2. `Concatenation` : Both `str` and `bytes` types support concatenation using the `+` operator. However, when concatenating strings of different types, you need to explicitly convert one type to the other using the `str()` or `bytes()` function.\n",
    "\n",
    "\n",
    "3. `Indexing` and `slicing` : Both `str` and `bytes` types support indexing and slicing using the same syntax (`string[index]` or `string[start:end]`). However, since bytes are sequences of bytes, indexing or slicing a bytes object will return an integer representing the byte value, not a character. To get the character representation, you need to decode the byte using an appropriate encoding scheme.\n",
    "\n",
    "\n",
    "4. `Regular expressions` : The `re` module in Python supports regular expressions on both `str` and `bytes` types. However, the syntax for specifying regular expressions and the behavior of some regular expression functions can be different depending on the type of string being used.\n",
    "\n",
    "\n",
    "5. `String methods`: Both `str` and `bytes` types have their own set of methods for working with strings. Some methods are common to both types (e.g., `lower()`, `replace()`, etc.), while others are specific to one type or the other (e.g., `decode()`, `hex()`, etc.)."
   ]
  },
  {
   "cell_type": "markdown",
   "id": "bdd32f96",
   "metadata": {},
   "source": [
    "### Q3. In 3.X, how do you put non-ASCII Unicode characters in a string?\n",
    "\n",
    "ANSWER :\n",
    "1. In Python 3.x, you can put `non-ASCII Unicode` characters in a string by simply including the character directly in the string. Since `str` objects in Python 3.x are Unicode strings by default, they can represent any Unicode character directly.\n",
    "\n",
    "\n",
    "2. If you need to include Unicode characters that are not available on your keyboard, you can use their `Unicode` code point in the string, expressed as a escape sequence `\\uXXXX` where `XXXX` is the hexadecimal value of the code point."
   ]
  },
  {
   "cell_type": "code",
   "execution_count": 1,
   "id": "294edbaa",
   "metadata": {},
   "outputs": [
    {
     "data": {
      "text/plain": [
       "'The Greek letter pi is π'"
      ]
     },
     "execution_count": 1,
     "metadata": {},
     "output_type": "execute_result"
    }
   ],
   "source": [
    "string = \"The Greek letter pi is \\u03C0\"\n",
    "string"
   ]
  },
  {
   "cell_type": "markdown",
   "id": "55bfe467",
   "metadata": {},
   "source": [
    "3. Note : if you are working with `bytes` objects instead of `str` objects, you need to encode the string using an appropriate encoding scheme, such as UTF-8, before writing it to a file or sending it over a network. To do this, you can use the `encode()` method of the string object as shown below."
   ]
  },
  {
   "cell_type": "code",
   "execution_count": 4,
   "id": "cd81cec4",
   "metadata": {},
   "outputs": [
    {
     "data": {
      "text/plain": [
       "b'The Greek letter pi is \\xcf\\x80'"
      ]
     },
     "execution_count": 4,
     "metadata": {},
     "output_type": "execute_result"
    }
   ],
   "source": [
    "bytes = string.encode('utf-8')\n",
    "bytes"
   ]
  },
  {
   "cell_type": "markdown",
   "id": "9b88cad7",
   "metadata": {},
   "source": [
    "### Q4. In Python 3.X, what are the key differences between text-mode and binary-mode files?\n",
    "\n",
    "ANSWER :\n",
    "1. `Data representation` : In text mode, data is represented as Unicode strings (str objects) and newline characters are converted to the platform-specific newline convention (`\\n` on `Unix`, `\\r\\n` on Windows). In binary mode, data is represented as sequences of bytes (`bytes` objects) and no automatic conversion is performed.\n",
    "\n",
    "\n",
    "2. `Reading and writing` : In text mode, you can read and write data using high-level text-oriented methods, such as `readline()`, `readlines()`, `write()`, `writelines()`, etc. In binary mode, you read and write data using lower-level byte-oriented methods, such as `read()`, `write()`, etc.\n",
    "\n",
    "\n",
    "3. `Encoding and decoding` : In text mode, encoding and decoding is performed automatically when reading and writing files. When you open a text file, you can specify an encoding to use (e.g., `open('file.txt', 'r', encoding='utf-8')`) and Python will automatically decode the file's contents to Unicode strings. When you write to a text file, Python will automatically encode the Unicode strings using the specified encoding. In binary mode, no encoding or decoding is performed automatically.\n",
    "\n",
    "\n",
    "4. `File positioning` : In text mode, the `seek()` method positions the file pointer based on the number of characters (not bytes). In binary mode, the `seek()` method positions the file pointer based on the number of bytes.\n",
    "\n",
    "\n",
    "5. File size: In text mode, the `seek(0, os.SEEK_END)` method returns the number of characters in the file, while in binary mode it returns the number of bytes."
   ]
  },
  {
   "cell_type": "markdown",
   "id": "5aa5f85d",
   "metadata": {},
   "source": [
    "### Q5. How can you interpret a Unicode text file containing text encoded in a different encoding than your platform's default?\n",
    "\n",
    "ANSWER : If you have a Unicode text file containing text encoded in a different encoding than your platform's default, you can specify the correct encoding to use when reading the file using Python's open() function.\n",
    "\n",
    "For example, if you have a text file encoded in `ISO-8859-1` (also known as Latin-1), but your platform's default encoding is `UTF-8`, you can read the file like this:\n",
    "\n",
    "                with open('filename.txt', encoding='iso-8859-1') as f:\n",
    "                    content = f.read()\n",
    "\n",
    "This will open the file 'filename.txt' using the ISO-8859-1 encoding, which is the correct encoding for the file, and read its contents into the content variable as a Unicode string.\n",
    "\n",
    "If you don't know the encoding of the file, you can try to detect it automatically using Python's `chardet` library. "
   ]
  },
  {
   "cell_type": "markdown",
   "id": "a32464ea",
   "metadata": {},
   "source": [
    "### Q6. What is the best way to make a Unicode text file in a particular encoding format?\n",
    "\n",
    "ANSWER : A Unicode text file can be created in a particular encoding format by specifying the desired encoding when opening the file in text mode using the `open()` function. Here’s an example that creates a new text file named `my_file.txt` in the current working directory and writes the string 'Hello, World!' to it using the `UTF-16` encoding:\n",
    "\n",
    "        with open('my_file.txt', 'w', encoding='utf-16') as f:\n",
    "            f.write('Hello, World!')\n",
    "    \n",
    "This code will create a new text file named my_file.txt in the current working directory and write the string 'Hello, World!' to it using the UTF-16 encoding. If the file already exists, its contents will be overwritten."
   ]
  },
  {
   "cell_type": "code",
   "execution_count": 11,
   "id": "1fd9b19c",
   "metadata": {},
   "outputs": [],
   "source": [
    "with open('my_file.txt', 'w', encoding='utf-16') as f:\n",
    "    f.write('Hello, World!')"
   ]
  },
  {
   "cell_type": "code",
   "execution_count": 12,
   "id": "8a022873",
   "metadata": {},
   "outputs": [],
   "source": [
    "import chardet\n",
    "\n",
    "with open('my_file.txt', 'rb') as f:\n",
    "    rawdata = f.read()\n",
    "    result = chardet.detect(rawdata)\n",
    "    encoding = result['encoding']\n",
    "\n",
    "with open('my_file.txt', encoding=encoding) as f:\n",
    "    content = f.read()"
   ]
  },
  {
   "cell_type": "code",
   "execution_count": 13,
   "id": "11eb3b25",
   "metadata": {},
   "outputs": [
    {
     "data": {
      "text/plain": [
       "'Hello, World!'"
      ]
     },
     "execution_count": 13,
     "metadata": {},
     "output_type": "execute_result"
    }
   ],
   "source": [
    "content"
   ]
  },
  {
   "cell_type": "code",
   "execution_count": 14,
   "id": "e2effb9a",
   "metadata": {},
   "outputs": [
    {
     "data": {
      "text/plain": [
       "'UTF-16'"
      ]
     },
     "execution_count": 14,
     "metadata": {},
     "output_type": "execute_result"
    }
   ],
   "source": [
    "encoding"
   ]
  },
  {
   "cell_type": "markdown",
   "id": "95927aa6",
   "metadata": {},
   "source": [
    "### Q7. What qualifies ASCII text as a form of Unicode text?\n",
    "\n",
    "ANSWER : ASCII text is a subset of Unicode text because the ASCII character set is a subset of the Unicode character set. The first 128 characters of the Unicode character set are identical to the ASCII character set, and they have the same numerical values and binary representations in both character sets.\n",
    "\n",
    "In other words, any ASCII text can be represented as Unicode text by simply using the same numerical values and binary representations for the ASCII characters in the Unicode character set. For example, the ASCII character 'A' has the numerical value 65 and the binary representation 01000001. In Unicode, the character 'A' also has the numerical value 65 and the binary representation 00000000 01000001. Therefore, the ASCII string 'Hello, world!' is also a valid Unicode string, and can be treated as such in Python.\n"
   ]
  },
  {
   "cell_type": "markdown",
   "id": "e850714b",
   "metadata": {},
   "source": [
    "### Q8. How much of an effect does the change in string types in Python 3.X have on your code?\n",
    "\n",
    "ANSWER : The change in string types in Python 3.X can have a significant effect on your code if you are migrating from Python 2.X. In Python 2.X, there were two string types: str and unicode. The str type was used to represent ASCII text, while the unicode type was used to represent Unicode text. In Python 3.X, the str type has been replaced by a new str type that represents Unicode text by default, and the old str type has been renamed to bytes. A new mutable bytearray type has also been added.\n",
    "\n",
    "This means that if you have code written in Python 2.X that uses the old str type to represent ASCII text, you will need to update it to use the new bytes type in Python 3.X. Similarly, if you have code that uses the old unicode type, you will need to update it to use the new str type. This can involve changes to how you read and write data from files, how you manipulate strings in memory, and how you pass data between functions."
   ]
  },
  {
   "cell_type": "code",
   "execution_count": null,
   "id": "22d2e27a",
   "metadata": {},
   "outputs": [],
   "source": []
  }
 ],
 "metadata": {
  "kernelspec": {
   "display_name": "Python 3 (ipykernel)",
   "language": "python",
   "name": "python3"
  },
  "language_info": {
   "codemirror_mode": {
    "name": "ipython",
    "version": 3
   },
   "file_extension": ".py",
   "mimetype": "text/x-python",
   "name": "python",
   "nbconvert_exporter": "python",
   "pygments_lexer": "ipython3",
   "version": "3.9.12"
  }
 },
 "nbformat": 4,
 "nbformat_minor": 5
}
