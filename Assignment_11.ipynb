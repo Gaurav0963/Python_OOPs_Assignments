{
 "cells": [
  {
   "cell_type": "markdown",
   "id": "1c7b9eec",
   "metadata": {},
   "source": [
    "# Assignment 11"
   ]
  },
  {
   "cell_type": "markdown",
   "id": "aa183f9b",
   "metadata": {},
   "source": [
    "### Q1. What is the concept of a metaclass?\n",
    "\n",
    "ANSWER : In object-oriented programming, a metaclass is a class whose instances are classes. Just as an ordinary class defines the behavior of certain objects, a metaclass defines the behavior of certain classes and their instances.\n",
    "\n",
    "In Python, a metaclass is a class used to create other classes. When a class is defined, Python uses its metaclass to create the class object. The default metaclass for Python classes is called \"type\", but you can define your own custom metaclasses by subclassing \"type\" or another metaclass.\n",
    "\n",
    "Metaclasses can be used to add or modify the behavior of classes in various ways. For example, you can use a metaclass to automatically generate methods or attributes for a class based on certain criteria, to enforce certain coding standards, or to enforce constraints on the class hierarchy. Metaclasses can be a powerful tool for advanced Python developers, but they can also be a source of complexity and confusion for beginners."
   ]
  },
  {
   "cell_type": "markdown",
   "id": "c34228e6",
   "metadata": {},
   "source": [
    "### Q2. What is the best way to declare a class's metaclass?\n",
    "\n",
    "ANSWER : The  simplest metaclass you can code is simply a subclass of type with a `__new__` method that creates the class object by running the default version in type."
   ]
  },
  {
   "cell_type": "code",
   "execution_count": 7,
   "id": "01d3ef1e",
   "metadata": {},
   "outputs": [],
   "source": [
    "class Meta(type):\n",
    "    def __new__(meta, classname, supers, classdict):\n",
    "        # Run by inherited type.__call__\n",
    "        return type.__new__(meta, classname, supers, classdict)"
   ]
  },
  {
   "cell_type": "markdown",
   "id": "4dc79014",
   "metadata": {},
   "source": [
    "A metaclass's `__new__` as coded above is run by the `__call__` method inherited from `type`, it typically performs whatever customization is required and calls the type superclass’s `__new__` method to create and return the new class object."
   ]
  },
  {
   "cell_type": "markdown",
   "id": "b9d2f5a2",
   "metadata": {},
   "source": [
    "### Q3. How do class decorators overlap with metaclasses for handling classes?\n",
    "\n",
    "ANSWER : Because both decoraters and metaclasses are automatically triggered at the end of a class statement, `class decorators` and `metaclasses` can both be used to manage classes. Decorators rebind a class name to a callable’s result and metaclasses route class creation through a callable, but both hooks can be used for similar purposes. To manage classes, decorators simply augment and return the original class objects. Metaclasses augment a class after they create it."
   ]
  },
  {
   "cell_type": "markdown",
   "id": "c6b2c887",
   "metadata": {},
   "source": [
    "### Q4. How do class decorators overlap with metaclasses for handling instances?\n",
    "\n",
    "ANSWER : Because both decorators and metaclasses are automatically triggered at the end of a class statement, `class decorators` and `metaclasses` can both be used to manage class instances, by inserting a wrapper object to catch instance creation calls. Decorators may rebind the class name to a callable run on instance creation that retains the original class object. Metaclasses can do the same, but they must also create the class object, so their usage is somewhat more complex in this role."
   ]
  }
 ],
 "metadata": {
  "kernelspec": {
   "display_name": "Python 3 (ipykernel)",
   "language": "python",
   "name": "python3"
  },
  "language_info": {
   "codemirror_mode": {
    "name": "ipython",
    "version": 3
   },
   "file_extension": ".py",
   "mimetype": "text/x-python",
   "name": "python",
   "nbconvert_exporter": "python",
   "pygments_lexer": "ipython3",
   "version": "3.9.12"
  }
 },
 "nbformat": 4,
 "nbformat_minor": 5
}
